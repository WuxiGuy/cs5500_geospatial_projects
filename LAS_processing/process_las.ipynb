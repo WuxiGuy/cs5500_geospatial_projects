{
 "cells": [
  {
   "cell_type": "markdown",
   "metadata": {},
   "source": [
    "#### Read multiple las file at the same time\n",
    "#### Create different matrices to represent different classes\n",
    "1. Unclassified\n",
    "\n",
    "(green)\n",
    "2. Bare-earth and low grass\n",
    "3. Low vegetation (height < 2m)\n",
    "4. Hight vegetation (height > 2m)\n",
    "\n",
    "(blue)\n",
    "5. Water\n",
    "\n",
    "6. Buildings\n",
    "7. Other\n",
    "8. Noise (noise points, blunders, outliners, etc)\n",
    "\n",
    "\n",
    "\n"
   ]
  },
  {
   "cell_type": "code",
   "execution_count": 1,
   "metadata": {},
   "outputs": [],
   "source": [
    "import numpy as np"
   ]
  },
  {
   "cell_type": "code",
   "execution_count": 2,
   "metadata": {},
   "outputs": [],
   "source": [
    "import laspy"
   ]
  },
  {
   "cell_type": "code",
   "execution_count": 3,
   "metadata": {},
   "outputs": [],
   "source": [
    "import open3d as o3d"
   ]
  },
  {
   "cell_type": "code",
   "execution_count": 4,
   "metadata": {},
   "outputs": [],
   "source": [
    "las = laspy.read(\"/Users/peinanwang/VancouverLAS/sample_data/downtownLAS/downtown.las\")"
   ]
  },
  {
   "cell_type": "code",
   "execution_count": 5,
   "metadata": {},
   "outputs": [
    {
     "data": {
      "text/plain": [
       "<LasData(1.2, point fmt: <PointFormat(1, 0 bytes of extra dims)>, 39977102 points, 1 vlrs)>"
      ]
     },
     "execution_count": 5,
     "metadata": {},
     "output_type": "execute_result"
    }
   ],
   "source": [
    "las"
   ]
  },
  {
   "cell_type": "code",
   "execution_count": 6,
   "metadata": {},
   "outputs": [
    {
     "data": {
      "text/plain": [
       "<LasHeader(1.2, <PointFormat(1, 0 bytes of extra dims)>)>"
      ]
     },
     "execution_count": 6,
     "metadata": {},
     "output_type": "execute_result"
    }
   ],
   "source": [
    "las.header"
   ]
  },
  {
   "cell_type": "code",
   "execution_count": 7,
   "metadata": {},
   "outputs": [
    {
     "data": {
      "text/plain": [
       "<PointFormat(1, 0 bytes of extra dims)>"
      ]
     },
     "execution_count": 7,
     "metadata": {},
     "output_type": "execute_result"
    }
   ],
   "source": [
    "las.header.point_format"
   ]
  },
  {
   "cell_type": "code",
   "execution_count": 8,
   "metadata": {},
   "outputs": [
    {
     "data": {
      "text/plain": [
       "['X',\n",
       " 'Y',\n",
       " 'Z',\n",
       " 'intensity',\n",
       " 'return_number',\n",
       " 'number_of_returns',\n",
       " 'scan_direction_flag',\n",
       " 'edge_of_flight_line',\n",
       " 'classification',\n",
       " 'synthetic',\n",
       " 'key_point',\n",
       " 'withheld',\n",
       " 'scan_angle_rank',\n",
       " 'user_data',\n",
       " 'point_source_id',\n",
       " 'gps_time']"
      ]
     },
     "execution_count": 8,
     "metadata": {},
     "output_type": "execute_result"
    }
   ],
   "source": [
    "list(las.point_format.dimension_names)"
   ]
  },
  {
   "cell_type": "code",
   "execution_count": 9,
   "metadata": {},
   "outputs": [
    {
     "data": {
      "text/plain": [
       "array([9101008, 9101138, 9103472, ..., 9199990, 9199893, 9199814],\n",
       "      dtype=int32)"
      ]
     },
     "execution_count": 9,
     "metadata": {},
     "output_type": "execute_result"
    }
   ],
   "source": [
    "las.X"
   ]
  },
  {
   "cell_type": "code",
   "execution_count": 10,
   "metadata": {},
   "outputs": [
    {
     "data": {
      "text/plain": [
       "array([ 5985,  8606, 21976, ..., 17563, 20272,  8781], dtype=uint16)"
      ]
     },
     "execution_count": 10,
     "metadata": {},
     "output_type": "execute_result"
    }
   ],
   "source": [
    "las.intensity"
   ]
  },
  {
   "cell_type": "code",
   "execution_count": 11,
   "metadata": {},
   "outputs": [
    {
     "data": {
      "text/plain": [
       "<SubFieldView([7 7 7 ... 1 1 1])>"
      ]
     },
     "execution_count": 11,
     "metadata": {},
     "output_type": "execute_result"
    }
   ],
   "source": [
    "las.classification"
   ]
  },
  {
   "cell_type": "code",
   "execution_count": 12,
   "metadata": {},
   "outputs": [
    {
     "data": {
      "text/plain": [
       "<SubFieldView([0 0 0 ... 0 0 0])>"
      ]
     },
     "execution_count": 12,
     "metadata": {},
     "output_type": "execute_result"
    }
   ],
   "source": [
    "las.synthetic"
   ]
  },
  {
   "cell_type": "code",
   "execution_count": 13,
   "metadata": {},
   "outputs": [],
   "source": [
    "points_with_classification = np.stack([las.X, las.Y, las.Z, las.classification], axis=0).transpose(1, 0)"
   ]
  },
  {
   "cell_type": "code",
   "execution_count": 14,
   "metadata": {
    "scrolled": false
   },
   "outputs": [
    {
     "name": "stdout",
     "output_type": "stream",
     "text": [
      "<class 'numpy.int32'>\n",
      "<class 'numpy.int32'>\n",
      "<class 'numpy.int32'>\n",
      "<class 'numpy.int32'>\n"
     ]
    },
    {
     "data": {
      "text/plain": [
       "False"
      ]
     },
     "execution_count": 14,
     "metadata": {},
     "output_type": "execute_result"
    }
   ],
   "source": [
    "points_with_classification\n",
    "\n",
    "type(points_with_classification)\n",
    "\n",
    "for element in points_with_classification[0]:\n",
    "    print(type(element))\n",
    "    \n",
    "points_with_classification[0][3] == 5"
   ]
  },
  {
   "cell_type": "markdown",
   "metadata": {},
   "source": [
    "### create different matrices based on classification"
   ]
  },
  {
   "cell_type": "code",
   "execution_count": 15,
   "metadata": {},
   "outputs": [],
   "source": [
    "'''\n",
    "Detail for LAS classification code can be found at:\n",
    "https://desktop.arcgis.com/en/arcmap/10.3/manage-data/las-dataset/lidar-point-classification.htm\n",
    "\n",
    "Code 8 and 12 will not be used for this project\n",
    "'''\n",
    "\n",
    "LAS_CLASSIFICATION = {0 : \"Never Classified\", \n",
    "                      1 : \"Unassigned\",\n",
    "                      2 : \"Ground\",\n",
    "                      3 : \"Low Vegetation\",\n",
    "                      4 : \"Medium Vegetation\",\n",
    "                      5 : \"High Vegetation\", \n",
    "                      6 : \"Building\",\n",
    "                      7 : \"Noise\",\n",
    "                      8 : \"Model Key/Reserved\", \n",
    "                      9 : \"Water\", \n",
    "                      10: \"Rail\",\n",
    "                      11: \"Road Surface\",\n",
    "                      12: \"Overlap/Reserved\",\n",
    "                      13: \"Wire - Guard\", \n",
    "                      14: \"Wire - Conductor\", \n",
    "                      15: \"Transmission Tower\",\n",
    "                      16: \"Wire - Connector\", \n",
    "                      17: \"Bridge Deck\", \n",
    "                      18: \"High Noise\"}\n",
    "\n",
    "CLASSIFICATION_COLORS = {\"Never Classified\" : [204, 255, 255],# light blue\n",
    "                         \"Unassigned\" : [255, 204, 255],      # light pink\n",
    "                         \"Ground\" : [204, 153, 0],            # light brown\n",
    "                         \"Low Vegetation\" : [153, 255, 51],   # light green\n",
    "                         \"Medium Vegetation\" : [51, 204, 51], # green\n",
    "                         \"High Vegetation\" : [51, 153, 51],   # dark green\n",
    "                         \"Building\" : [255, 102, 0],          # orange\n",
    "                         \"Noise\" : [255, 255, 204],           # light yellow (almost white)\n",
    "                         \"Model Key/Reserved\" : [51, 51, 0],  # dark green (almost black)       \n",
    "                         \"Water\" : [0, 102, 255],             # blue\n",
    "                         \"Rail\" : [0, 0, 102],                # dark blue\n",
    "                         \"Road Surface\" : [102, 102, 153],    # dark grey\n",
    "                         \"Overlap/Reserved\" : [51, 51, 0],    # dark green (almost black)  \n",
    "                         \"Wire - Guard\" : [204, 0, 204],      # purple\n",
    "                         \"Wire - Conductor\" : [204, 0, 204],  # purple\n",
    "                         \"Transmission Tower\" : [204, 0, 204],# purple\n",
    "                         \"Wire - Connector\" : [204, 0, 204],  # purple\n",
    "                         \"Bridge Deck\" : [255, 0, 0],         # red\n",
    "                         \"High Noise\" : [255, 255, 204]       # light yellow (almost white)\n",
    "                        }\n",
    "\n",
    "NATURAL_FEATURES = [3, 4, 5]\n",
    "\n",
    "POWERLINES = [13, 14, 16]\n",
    "\n",
    "UNNATURAL_STRUCTURES = [6, 11, 17]\n",
    "\n",
    "\n"
   ]
  },
  {
   "cell_type": "code",
   "execution_count": 16,
   "metadata": {},
   "outputs": [
    {
     "name": "stdout",
     "output_type": "stream",
     "text": [
      "[[], [], [], [], [], [], [], [], [], [], [], [], [], [], [], [], [], [], []]\n",
      "0 Never Classified: 0\n",
      "1 Unassigned: 9662679\n",
      "2 Ground: 3880901\n",
      "3 Low Vegetation: 670014\n",
      "4 Medium Vegetation: 0\n",
      "5 High Vegetation: 6146149\n",
      "6 Building: 19541588\n",
      "7 Noise: 75771\n",
      "8 Model Key/Reserved: 0\n",
      "9 Water: 0\n",
      "10 Rail: 0\n",
      "11 Road Surface: 0\n",
      "12 Overlap/Reserved: 0\n",
      "13 Wire - Guard: 0\n",
      "14 Wire - Conductor: 0\n",
      "15 Transmission Tower: 0\n",
      "16 Wire - Connector: 0\n",
      "17 Bridge Deck: 0\n",
      "18 High Noise: 0\n"
     ]
    }
   ],
   "source": [
    "point_cloud_matrices = []\n",
    "\n",
    "for key in LAS_CLASSIFICATION:\n",
    "    point_cloud_matrices.append([])\n",
    "\n",
    "print(point_cloud_matrices)\n",
    "\n",
    "for point in points_with_classification:\n",
    "    i = point[3]\n",
    "    point_cloud_matrices[i].append([point[0], point[1], point[2]])\n",
    "\n",
    "n = 0\n",
    "for arr in point_cloud_matrices:\n",
    "    print(f\"{n} {LAS_CLASSIFICATION[n]}: {len(arr)}\")\n",
    "    n += 1"
   ]
  },
  {
   "cell_type": "code",
   "execution_count": 17,
   "metadata": {},
   "outputs": [
    {
     "ename": "KeyboardInterrupt",
     "evalue": "",
     "output_type": "error",
     "traceback": [
      "\u001b[0;31m---------------------------------------------------------------------------\u001b[0m",
      "\u001b[0;31mKeyboardInterrupt\u001b[0m                         Traceback (most recent call last)",
      "Input \u001b[0;32mIn [17]\u001b[0m, in \u001b[0;36m<cell line: 1>\u001b[0;34m()\u001b[0m\n\u001b[0;32m----> 1\u001b[0m classification_set \u001b[38;5;241m=\u001b[39m \u001b[38;5;28mset\u001b[39m(\u001b[38;5;28;43mlist\u001b[39;49m\u001b[43m(\u001b[49m\u001b[43mlas\u001b[49m\u001b[38;5;241;43m.\u001b[39;49m\u001b[43mclassification\u001b[49m\u001b[43m)\u001b[49m)\n",
      "File \u001b[0;32m/Library/anaconda3/lib/python3.9/site-packages/laspy/point/dims.py:684\u001b[0m, in \u001b[0;36mSubFieldView.__getitem__\u001b[0;34m(self, item)\u001b[0m\n\u001b[1;32m    683\u001b[0m \u001b[38;5;28;01mdef\u001b[39;00m \u001b[38;5;21m__getitem__\u001b[39m(\u001b[38;5;28mself\u001b[39m, item):\n\u001b[0;32m--> 684\u001b[0m     sliced \u001b[38;5;241m=\u001b[39m \u001b[43mSubFieldView\u001b[49m\u001b[43m(\u001b[49m\u001b[38;5;28;43mself\u001b[39;49m\u001b[38;5;241;43m.\u001b[39;49m\u001b[43marray\u001b[49m\u001b[43m[\u001b[49m\u001b[43mitem\u001b[49m\u001b[43m]\u001b[49m\u001b[43m,\u001b[49m\u001b[43m \u001b[49m\u001b[38;5;28;43mint\u001b[39;49m\u001b[43m(\u001b[49m\u001b[38;5;28;43mself\u001b[39;49m\u001b[38;5;241;43m.\u001b[39;49m\u001b[43mbit_mask\u001b[49m\u001b[43m)\u001b[49m\u001b[43m)\u001b[49m\n\u001b[1;32m    685\u001b[0m     \u001b[38;5;28;01mif\u001b[39;00m \u001b[38;5;28misinstance\u001b[39m(item, \u001b[38;5;28mint\u001b[39m):\n\u001b[1;32m    686\u001b[0m         \u001b[38;5;28;01mreturn\u001b[39;00m sliced\u001b[38;5;241m.\u001b[39mmasked_array()\n",
      "File \u001b[0;32m/Library/anaconda3/lib/python3.9/site-packages/laspy/point/dims.py:641\u001b[0m, in \u001b[0;36mSubFieldView.__init__\u001b[0;34m(self, array, bit_mask)\u001b[0m\n\u001b[1;32m    639\u001b[0m \u001b[38;5;28mself\u001b[39m\u001b[38;5;241m.\u001b[39mbit_mask \u001b[38;5;241m=\u001b[39m \u001b[38;5;28mself\u001b[39m\u001b[38;5;241m.\u001b[39marray\u001b[38;5;241m.\u001b[39mdtype\u001b[38;5;241m.\u001b[39mtype(bit_mask)\n\u001b[1;32m    640\u001b[0m \u001b[38;5;28mself\u001b[39m\u001b[38;5;241m.\u001b[39mlsb \u001b[38;5;241m=\u001b[39m packing\u001b[38;5;241m.\u001b[39mleast_significant_bit_set(bit_mask)\n\u001b[0;32m--> 641\u001b[0m \u001b[38;5;28mself\u001b[39m\u001b[38;5;241m.\u001b[39mmax_value_allowed \u001b[38;5;241m=\u001b[39m \u001b[38;5;28mint\u001b[39m(\u001b[38;5;28;43mself\u001b[39;49m\u001b[38;5;241;43m.\u001b[39;49m\u001b[43mbit_mask\u001b[49m\u001b[43m \u001b[49m\u001b[38;5;241;43m>>\u001b[39;49m\u001b[43m \u001b[49m\u001b[38;5;28;43mself\u001b[39;49m\u001b[38;5;241;43m.\u001b[39;49m\u001b[43mlsb\u001b[49m)\n",
      "\u001b[0;31mKeyboardInterrupt\u001b[0m: "
     ]
    }
   ],
   "source": [
    "classification_set = set(list(las.classification))"
   ]
  },
  {
   "cell_type": "code",
   "execution_count": null,
   "metadata": {},
   "outputs": [],
   "source": [
    "print(classification_set)"
   ]
  },
  {
   "cell_type": "markdown",
   "metadata": {},
   "source": [
    "### create geom object for each classification\n",
    "### save geom objects to a list"
   ]
  },
  {
   "cell_type": "code",
   "execution_count": null,
   "metadata": {},
   "outputs": [],
   "source": [
    "RGB = 255"
   ]
  },
  {
   "cell_type": "code",
   "execution_count": null,
   "metadata": {},
   "outputs": [],
   "source": [
    "geom_list = []\n",
    "for i in range(len(point_cloud_matrices)):\n",
    "    geom = o3d.geometry.PointCloud()\n",
    "    geom.points = o3d.utility.Vector3dVector(point_cloud_matrices[i])\n",
    "    color = CLASSIFICATION_COLORS[LAS_CLASSIFICATION[i]]\n",
    "    geom.paint_uniform_color([color[0]/RGB, color[1]/RGB, color[2]/RGB])\n",
    "    geom_list.append(geom)"
   ]
  },
  {
   "cell_type": "code",
   "execution_count": null,
   "metadata": {},
   "outputs": [],
   "source": [
    "o3d.visualization.draw_geometries(geom_list)"
   ]
  },
  {
   "cell_type": "code",
   "execution_count": null,
   "metadata": {},
   "outputs": [],
   "source": []
  },
  {
   "cell_type": "code",
   "execution_count": null,
   "metadata": {},
   "outputs": [],
   "source": []
  },
  {
   "cell_type": "code",
   "execution_count": null,
   "metadata": {},
   "outputs": [],
   "source": []
  }
 ],
 "metadata": {
  "kernelspec": {
   "display_name": "Python 3 (ipykernel)",
   "language": "python",
   "name": "python3"
  },
  "language_info": {
   "codemirror_mode": {
    "name": "ipython",
    "version": 3
   },
   "file_extension": ".py",
   "mimetype": "text/x-python",
   "name": "python",
   "nbconvert_exporter": "python",
   "pygments_lexer": "ipython3",
   "version": "3.9.12"
  },
  "vscode": {
   "interpreter": {
    "hash": "31f2aee4e71d21fbe5cf8b01ff0e069b9275f58929596ceb00d14d90e3e16cd6"
   }
  }
 },
 "nbformat": 4,
 "nbformat_minor": 2
}
